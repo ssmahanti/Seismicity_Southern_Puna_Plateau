{
 "cells": [
  {
   "cell_type": "code",
   "execution_count": 10,
   "id": "ad80f2b7",
   "metadata": {},
   "outputs": [
    {
     "name": "stdout",
     "output_type": "stream",
     "text": [
      "-90.0 -0.0 -68.91 -90.0\n"
     ]
    }
   ],
   "source": [
    "from pyrocko import moment_tensor as pmt\n",
    "import numpy as num\n",
    "from obspy.imaging.beachball import beachball\n",
    "import pandas as pd\n",
    "\n",
    "r2d = 180. / num.pi #radian to degrees\n",
    "strike=0\n",
    "dip=45\n",
    "rake=90\n",
    "m0 = pmt.magnitude_to_moment(5)  # convert the mag to moment\n",
    "mt = pmt.MomentTensor(strike=strike, dip=dip, rake=rake, scalar_moment=m0)\n",
    "\n",
    "# P-axis normal vector in north-east-down coordinates\n",
    "p_ned = mt.p_axis()\n",
    "p_azimuth = num.arctan2(p_ned.item(0,1), p_ned.item(0,0)) * r2d\n",
    "p_dip = num.arcsin(p_ned.item(0,2)) * r2d\n",
    "\n",
    "# T-axis normal vector in north-east-down coordinates\n",
    "t_ned = mt.t_axis()\n",
    "t_azimuth = num.arctan2(t_ned.item(0,1), t_ned.item(0,0)) * r2d\n",
    "t_dip = num.arcsin(t_ned.item(0,2)) * r2d\n",
    "\n",
    "print(round(p_azimuth,2), round(p_dip,2),round(t_azimuth,2),round(t_dip,2))"
   ]
  },
  {
   "cell_type": "code",
   "execution_count": 11,
   "id": "26de7efd",
   "metadata": {},
   "outputs": [
    {
     "data": {
      "image/png": "[encoded data removed]",
      "text/plain": [
       "<Figure size 200x200 with 1 Axes>"
      ]
     },
     "metadata": {
      "needs_background": "light"
     },
     "output_type": "display_data"
    }
   ],
   "source": [
    "mt2 = [strike, dip, rake]\n",
    "beachball(mt2, size=200, linewidth=2, facecolor='r');"
   ]
  },
  {
   "cell_type": "code",
   "execution_count": 12,
   "id": "dacc6959",
   "metadata": {},
   "outputs": [
    {
     "name": "stdout",
     "output_type": "stream",
     "text": [
      "strike_slip\n"
     ]
    }
   ],
   "source": [
    "if abs(p_dip)<45 and abs(t_dip)<45:\n",
    "    print(\"strike_slip\")\n",
    "elif abs(p_dip)>45 and abs(t_dip)<45:\n",
    "    print(\"normal\")\n",
    "elif abs(p_dip)<45 and abs(t_dip)>45:\n",
    "    print(\"thrust\")"
   ]
  },
  {
   "cell_type": "code",
   "execution_count": null,
   "id": "94e7b7f8",
   "metadata": {},
   "outputs": [],
   "source": []
  }
 ],
 "metadata": {
  "kernelspec": {
   "display_name": "Python 3",
   "language": "python",
   "name": "python3"
  },
  "language_info": {
   "codemirror_mode": {
    "name": "ipython",
    "version": 3
   },
   "file_extension": ".py",
   "mimetype": "text/x-python",
   "name": "python",
   "nbconvert_exporter": "python",
   "pygments_lexer": "ipython3",
   "version": "3.7.10"
  }
 },
 "nbformat": 4,
 "nbformat_minor": 5
}

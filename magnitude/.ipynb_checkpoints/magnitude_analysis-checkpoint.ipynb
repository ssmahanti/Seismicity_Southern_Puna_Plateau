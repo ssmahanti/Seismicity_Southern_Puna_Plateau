{
 "cells": [
  {
   "cell_type": "markdown",
   "id": "1a2c299d",
   "metadata": {},
   "source": [
    "# Earthquake Magnitude Analysis\n",
    "\n",
    "In this analysis, we shall first plot the histograms of earthquake magnitudes for catalog from REAL and VELEST. Then we shall plot the cumulative distribution in log scale and try to fit with Gutenberg-Richter law. We need to find an optimum Magnitude of completeness and a b-value from this analysis."
   ]
  },
  {
   "cell_type": "code",
   "execution_count": 1,
   "id": "9302213b",
   "metadata": {},
   "outputs": [],
   "source": [
    "#Import libraries\n",
    "from math import *\n",
    "import numpy as np\n",
    "import matplotlib.pyplot as plt\n",
    "import pandas as pd\n",
    "import matplotlib as mpl\n",
    "mpl.rcParams['figure.dpi'] = 100"
   ]
  },
  {
   "cell_type": "code",
   "execution_count": 2,
   "id": "7dce747d",
   "metadata": {},
   "outputs": [
    {
     "data": {
      "text/plain": [
       "(0.11, 3.87)"
      ]
     },
     "execution_count": 2,
     "metadata": {},
     "output_type": "execute_result"
    }
   ],
   "source": [
    "#Load magnitudes to list\n",
    "mag_real=pd.read_csv('puna_catalog_velest_v5.txt',sep='\\s+',header=None)[10]\n",
    "#mag_velest=np.loadtxt('puna_mag_velest.txt')[:,10]\n",
    "(np.min(mag_real),np.max(mag_real))"
   ]
  },
  {
   "cell_type": "markdown",
   "id": "719862ca",
   "metadata": {},
   "source": [
    "## 1. Plotting histograms"
   ]
  },
  {
   "cell_type": "code",
   "execution_count": 3,
   "id": "72c2b233",
   "metadata": {},
   "outputs": [
    {
     "data": {
      "text/plain": [
       "Text(0, 0.5, 'Counts')"
      ]
     },
     "execution_count": 3,
     "metadata": {},
     "output_type": "execute_result"
    },
    {
     "data": {
      "image/png": "[encoded data removed]",
      "text/plain": [
       "<Figure size 504x432 with 1 Axes>"
      ]
     },
     "metadata": {
      "needs_background": "light"
     },
     "output_type": "display_data"
    }
   ],
   "source": [
    "## Plot the histograms for different calalogs\n",
    "fig = plt.figure(figsize=(7,6))\n",
    "#fig.tight_layout(pad=1)\n",
    "\n",
    "##\n",
    "#ax = plt.subplot(121)\n",
    "#plt.hist(mag_real, bins=30,alpha=1, histtype='bar', ec='black', color='red')\n",
    "#plt.xlabel('Magnitude')\n",
    "#plt.ylabel('Counts')\n",
    "#plt.ylim([0,400])\n",
    "#plt.title('Magnitude histogram for REAL catalog')\n",
    "\n",
    "##\n",
    "#ax = plt.subplot(122)\n",
    "plt.hist(mag_real, bins=30,alpha=1, histtype='bar', ec='black', color='red')\n",
    "plt.xlabel('Magnitude ($M_L$)',fontsize=16)\n",
    "plt.ylabel('Counts',fontsize=16)\n",
    "#plt.ylim([0,400])\n",
    "#plt.title('Magnitude histogram for VELEST catalog')\n",
    "\n",
    "#plt.gcf().set_dpi(300)\n",
    "#plt.savefig('./plots/Histogram_magnitude_velest.png',dpi=300)\n"
   ]
  },
  {
   "cell_type": "markdown",
   "id": "117af8c1",
   "metadata": {},
   "source": [
    "## 2. Fitting to Gutenberg-Richter law"
   ]
  },
  {
   "cell_type": "code",
   "execution_count": 4,
   "id": "56c56c1d",
   "metadata": {},
   "outputs": [],
   "source": [
    "MR=np.arange(0.1,3.9,.05)\n",
    "count=[0]*len(MR)\n",
    "for i in range(len(MR)):\n",
    "    for j in range(len(mag_real)):\n",
    "        if float(mag_real[j])>MR[i]:\n",
    "            count[i]+=1\n",
    "          "
   ]
  },
  {
   "cell_type": "code",
   "execution_count": 5,
   "id": "3e5098b4",
   "metadata": {},
   "outputs": [
    {
     "data": {
      "text/plain": [
       "Text(0, 0.5, 'log(M)')"
      ]
     },
     "execution_count": 5,
     "metadata": {},
     "output_type": "execute_result"
    },
    {
     "data": {
      "image/png": "[encoded data removed]",
      "text/plain": [
       "<Figure size 504x432 with 1 Axes>"
      ]
     },
     "metadata": {
      "needs_background": "light"
     },
     "output_type": "display_data"
    }
   ],
   "source": [
    "fig = plt.figure(figsize=(7,6))\n",
    "ax = plt.gca()\n",
    "#ax.set_yscale('log')\n",
    "YV=np.log10(count)\n",
    "plt.scatter(MR,YV,s=10)\n",
    "plt.axhline(y=3.42)\n",
    "plt.xlabel('M')\n",
    "plt.ylabel('log(M)')"
   ]
  },
  {
   "cell_type": "code",
   "execution_count": 6,
   "id": "be2cf7fc",
   "metadata": {},
   "outputs": [
    {
     "name": "stdout",
     "output_type": "stream",
     "text": [
      "Best Mc value= 1.1\n"
     ]
    }
   ],
   "source": [
    "#Calculation of Mc and b-value\n",
    "#Function to define RMS error\n",
    "def mse(actual, predicted):\n",
    "    actual = np.array(actual)\n",
    "    predicted = np.array(predicted)\n",
    "    differences = np.subtract(actual, predicted)\n",
    "    squared_differences = np.square(differences)\n",
    "    return squared_differences.sum()\n",
    "\n",
    "#define cutoff\n",
    "E=[]\n",
    "C=np.arange(0.1,2.5,0.1)\n",
    "for c in C:\n",
    "\n",
    "    MR1=[]\n",
    "    MR2=[]\n",
    "    YV1=[]\n",
    "    YV2=[]\n",
    "\n",
    "    #Split the list\n",
    "    for i in range(len(MR)):\n",
    "        if MR[i]<c:\n",
    "            MR1.append(MR[i])\n",
    "            YV1.append(YV[i])\n",
    "        else:\n",
    "            MR2.append(MR[i])\n",
    "            YV2.append(YV[i])\n",
    "        \n",
    "    #Fit a line with 0 slope for first part\n",
    "    #b1=np.mean(np.array(YV1)-0*np.array(MR1)) #best fitting intercept \n",
    "    \n",
    "    b1=3.42 #we can also use a defined intercept\n",
    "    fit1=[b1+0*m for m in MR1] #predicted values\n",
    "\n",
    "    #Misfit value for first part\n",
    "    err1=(mse(fit1,YV1))\n",
    "    #print(err1)\n",
    "\n",
    "    #second part\n",
    "\n",
    "    z2 = np.polyfit(MR2, YV2, 1, full=True)\n",
    "    fit2=[z2[0][1]+z2[0][0]*m for m in MR2] \n",
    "\n",
    "    #error\n",
    "    err2=z2[1][0]\n",
    "    #print(err2)\n",
    "    E.append(err1+err2)\n",
    "min_ind=(E.index(min(E)))\n",
    "print(\"Best Mc value=\",C[min_ind])"
   ]
  },
  {
   "cell_type": "code",
   "execution_count": 7,
   "id": "dc8f6844",
   "metadata": {},
   "outputs": [
    {
     "data": {
      "text/plain": [
       "Text(0.5, 1.0, 'Misfit variation for different Mc values')"
      ]
     },
     "execution_count": 7,
     "metadata": {},
     "output_type": "execute_result"
    },
    {
     "data": {
      "image/png": "[encoded data removed]",
      "text/plain": [
       "<Figure size 576x432 with 1 Axes>"
      ]
     },
     "metadata": {
      "needs_background": "light"
     },
     "output_type": "display_data"
    }
   ],
   "source": [
    "fig = plt.figure(figsize=(8,6))\n",
    "\n",
    "plt.plot(C,E,\"-o\",color=\"red\")\n",
    "plt.xlabel(\"Mc value\")\n",
    "plt.ylabel(\"Squared residual sum\")\n",
    "plt.title(\"Misfit variation for different Mc values\")\n",
    "#plt.savefig(\"./plots/mc_minimum_real.png\",dpi=300)"
   ]
  },
  {
   "cell_type": "code",
   "execution_count": 8,
   "id": "19175733",
   "metadata": {},
   "outputs": [
    {
     "name": "stdout",
     "output_type": "stream",
     "text": [
      "3.42\n",
      "Obtained b-value= 1.2540627318534714\n"
     ]
    }
   ],
   "source": [
    "#Fitting for best Mc value and obtain b-value\n",
    "\n",
    "MR1=[]\n",
    "MR2=[]\n",
    "YV1=[]\n",
    "YV2=[]\n",
    "\n",
    "#optimum Mc value\n",
    "c=1.1\n",
    "\n",
    "#Split the list\n",
    "for i in range(len(MR)):\n",
    "    if MR[i]<c:\n",
    "        MR1.append(MR[i])\n",
    "        YV1.append(YV[i])\n",
    "    else:\n",
    "        MR2.append(MR[i])\n",
    "        YV2.append(YV[i])\n",
    "        \n",
    "#Fit a line with 0 slope for first part\n",
    "b1=np.mean(np.array(YV1)-0*np.array(MR1)) #intercept\n",
    "b1=3.42\n",
    "fit1=[b1+0*m for m in MR1] #predicted values\n",
    "print(b1)\n",
    "#second part\n",
    "z2 = np.polyfit(MR2, YV2, 1, full=True)\n",
    "fit2=[z2[0][1]+z2[0][0]*m for m in MR2] \n",
    "slope=z2[0][0]\n",
    "print(\"Obtained b-value=\",-slope)"
   ]
  },
  {
   "cell_type": "code",
   "execution_count": 9,
   "id": "1e02a0c6",
   "metadata": {},
   "outputs": [
    {
     "data": {
      "text/plain": [
       "Text(0, 0.5, 'log(N)')"
      ]
     },
     "execution_count": 9,
     "metadata": {},
     "output_type": "execute_result"
    },
    {
     "data": {
      "image/png": "[encoded data removed]",
      "text/plain": [
       "<Figure size 504x432 with 1 Axes>"
      ]
     },
     "metadata": {
      "needs_background": "light"
     },
     "output_type": "display_data"
    }
   ],
   "source": [
    "fig = plt.figure(figsize=(7,6))\n",
    "ax = plt.gca()\n",
    "plt.rc('xtick', labelsize=15)\n",
    "plt.rc('ytick', labelsize=15)\n",
    "\n",
    "plt.scatter(MR,YV,s=10)\n",
    "#plt.plot(MR1,fit1,color=\"red\")\n",
    "plt.plot(MR2,fit2,color=\"RED\")\n",
    "\n",
    "plt.text(0, 0.0, 'b-value=1.25', fontsize = 18)\n",
    "plt.text(0, 0.3, 'Mc=1.1', fontsize = 18)\n",
    "\n",
    "plt.xlabel('$M_L$',fontsize=18)\n",
    "plt.ylabel('log(N)',fontsize=18)\n",
    "#plt.savefig(\"./plots/b-value_fit_velest.png\",dpi=300)"
   ]
  }
 ],
 "metadata": {
  "kernelspec": {
   "display_name": "Python 3",
   "language": "python",
   "name": "python3"
  },
  "language_info": {
   "codemirror_mode": {
    "name": "ipython",
    "version": 3
   },
   "file_extension": ".py",
   "mimetype": "text/x-python",
   "name": "python",
   "nbconvert_exporter": "python",
   "pygments_lexer": "ipython3",
   "version": "3.7.10"
  }
 },
 "nbformat": 4,
 "nbformat_minor": 5
}

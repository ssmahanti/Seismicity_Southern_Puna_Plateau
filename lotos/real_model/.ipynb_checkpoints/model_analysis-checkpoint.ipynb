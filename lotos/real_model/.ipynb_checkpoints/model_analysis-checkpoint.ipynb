{
 "cells": [
  {
   "cell_type": "code",
   "execution_count": 24,
   "id": "6bb92b3e",
   "metadata": {},
   "outputs": [],
   "source": [
    "import numpy as np\n",
    "import pygmt\n",
    "import pandas as pd\n",
    "from scipy.interpolate import interp1d\n",
    "from functools import reduce\n",
    "import matplotlib.pyplot as plt\n",
    "from math import *"
   ]
  },
  {
   "cell_type": "markdown",
   "id": "7d2dd8f7",
   "metadata": {},
   "source": [
    "## ***Clean up the input file and refmod file from text before running further codes.***"
   ]
  },
  {
   "cell_type": "code",
   "execution_count": 34,
   "id": "f7241fbf",
   "metadata": {},
   "outputs": [],
   "source": [
    "#Add the absolute velocity with the anomaly using refmod.dat\n",
    "\n",
    "fo=open(\"dv3D_run_abs_p_v2.dat\",'w') #output file\n",
    "df_mod=pd.read_csv(\"refmod.dat\", sep=\"\\s+\",header=None) #reference 1D model file\n",
    "\n",
    "#Interpolate either P or S velocity\n",
    "f1=interp1d(df_mod[0],df_mod[1])\n",
    "\n",
    "#Check Z range in major_param.dat\n",
    "dzt=np.arange(-4,21,1)\n",
    "\n",
    "#Interpolate at Z values\n",
    "dvt=f1(dzt)\n",
    "\n",
    "#print((dzt,dvt))\n",
    "\n",
    "df_obt=pd.read_csv(\"dv3D_run_v2.dat\",sep=\"\\s+\",header=None)\n",
    "\n",
    "#Adds a column of absolute velocity and change in velocity in percent.\n",
    "k=0\n",
    "for i in range(len(df_obt[0])):\n",
    "    \n",
    "    if df_obt[0][i]==1: #P or S\n",
    "        print(df_obt[0][i],df_obt[1][i],df_obt[2][i],df_obt[3][i],df_obt[4][i],dvt[k],(df_obt[4][i]/dvt[k])*100,file=fo)\n",
    "        k=k+1\n",
    "        if k%25==0: #be careful for each file\n",
    "            k=0"
   ]
  },
  {
   "cell_type": "code",
   "execution_count": 36,
   "id": "ce409b1c",
   "metadata": {},
   "outputs": [],
   "source": [
    "#Add the absolute velocity with the anomaly using refmod.dat\n",
    "\n",
    "fo=open(\"dv3D_run_abs_s_v2.dat\",'w') #output file\n",
    "df_mod=pd.read_csv(\"refmod.dat\", sep=\"\\s+\",header=None) #reference 1D model file\n",
    "\n",
    "#Interpolate either P or S velocity\n",
    "f1=interp1d(df_mod[0],df_mod[2])\n",
    "\n",
    "#Check Z range in major_param.dat\n",
    "dzt=np.arange(-4,21,1)\n",
    "\n",
    "#Interpolate at Z values\n",
    "dvt=f1(dzt)\n",
    "\n",
    "#print((dzt,dvt))\n",
    "\n",
    "df_obt=pd.read_csv(\"dv3D_run_v2.dat\",sep=\"\\s+\",header=None)\n",
    "\n",
    "#Adds a column of absolute velocity and change in velocity in percent.\n",
    "k=0\n",
    "for i in range(len(df_obt[0])):\n",
    "    \n",
    "    if df_obt[0][i]==2: #P or S\n",
    "        print(df_obt[0][i],df_obt[1][i],df_obt[2][i],df_obt[3][i],df_obt[4][i],dvt[k],(df_obt[4][i]/dvt[k])*100,file=fo)\n",
    "        k=k+1\n",
    "        if k%25==0: #be careful for each file\n",
    "            k=0"
   ]
  },
  {
   "cell_type": "code",
   "execution_count": 38,
   "id": "70e6eec7",
   "metadata": {},
   "outputs": [
    {
     "name": "stdout",
     "output_type": "stream",
     "text": [
      "              0        1     2    3      4    5\n",
      "0      -68.5077 -27.9661  -4.0  0.0  3.316  0.0\n",
      "1      -68.5077 -27.9661  -3.0  0.0  3.352  0.0\n",
      "2      -68.5077 -27.9661  -2.0  0.0  3.388  0.0\n",
      "3      -68.5077 -27.9661  -1.0  0.0  3.424  0.0\n",
      "4      -68.5077 -27.9661   0.0  0.0  3.460  0.0\n",
      "...         ...      ...   ...  ...    ...  ...\n",
      "126020 -65.6923 -25.4339  16.0  0.0  3.560  0.0\n",
      "126021 -65.6923 -25.4339  17.0  0.0  3.570  0.0\n",
      "126022 -65.6923 -25.4339  18.0  0.0  3.580  0.0\n",
      "126023 -65.6923 -25.4339  19.0  0.0  3.590  0.0\n",
      "126024 -65.6923 -25.4339  20.0  0.0  3.600  0.0\n",
      "\n",
      "[126025 rows x 6 columns]\n"
     ]
    }
   ],
   "source": [
    "#Nodes to coordinates for velocity model\n",
    "lat0=-26.7\n",
    "lon0=-67.1\n",
    "dep0=-4.0\n",
    "df_real = pd.read_csv(\"dv3D_run_abs_s_v2.dat\",sep=\"\\s+\",header=None)\n",
    "#print(df_real)\n",
    "a1=4.0/110.574\n",
    "a2=4.0/(111.320*cos(lat0*pi/180))\n",
    "lonlist=round((lon0+(df_real[1]-36)*a2),4)\n",
    "latlist=round((lat0+(df_real[2]-36)*a1),4)\n",
    "deplist=(dep0+df_real[3]-1)\n",
    "\n",
    "# initialize data of lists.\n",
    "data = {0: lonlist,1: latlist,2:deplist,3:df_real[4],4:df_real[5],5:df_real[6]}\n",
    "\n",
    "# Create DataFrame\n",
    "df = pd.DataFrame(data)\n",
    "print(df)\n",
    "df.to_csv(\"dv3D_run_abs_coord_s_v2.dat\",sep=\" \",index=False,header=None)\n"
   ]
  },
  {
   "cell_type": "code",
   "execution_count": null,
   "id": "a6d91659",
   "metadata": {},
   "outputs": [],
   "source": []
  }
 ],
 "metadata": {
  "kernelspec": {
   "display_name": "Python 3",
   "language": "python",
   "name": "python3"
  },
  "language_info": {
   "codemirror_mode": {
    "name": "ipython",
    "version": 3
   },
   "file_extension": ".py",
   "mimetype": "text/x-python",
   "name": "python",
   "nbconvert_exporter": "python",
   "pygments_lexer": "ipython3",
   "version": "3.7.10"
  }
 },
 "nbformat": 4,
 "nbformat_minor": 5
}

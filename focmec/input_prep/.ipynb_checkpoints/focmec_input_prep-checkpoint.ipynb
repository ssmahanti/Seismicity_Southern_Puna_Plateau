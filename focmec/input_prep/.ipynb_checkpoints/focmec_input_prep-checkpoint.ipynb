{
 "cells": [
  {
   "cell_type": "markdown",
   "id": "dd0c50f9",
   "metadata": {},
   "source": [
    "# Import relevant libraries"
   ]
  },
  {
   "cell_type": "code",
   "execution_count": 18,
   "id": "c9752d6d",
   "metadata": {},
   "outputs": [],
   "source": [
    "from __future__ import print_function\n",
    "import numpy as np\n",
    "import pandas as pd\n",
    "from obspy import *\n",
    "from obspy.taup import TauPyModel,taup_create"
   ]
  },
  {
   "cell_type": "markdown",
   "id": "d8219998",
   "metadata": {},
   "source": [
    "# Import phase file and station coordinates"
   ]
  },
  {
   "cell_type": "code",
   "execution_count": 37,
   "id": "2c98e87d",
   "metadata": {},
   "outputs": [
    {
     "name": "stdout",
     "output_type": "stream",
     "text": [
      "            0          1   2     3    4      5\n",
      "0  -68.243278 -26.009306  2B  BB05  HHZ  4.339\n",
      "1  -68.372254 -25.545861  2B  BB06  HHZ  3.833\n",
      "2  -65.865694 -26.629639  2B  BB16  HHZ  2.224\n",
      "3  -65.895889 -25.914444  2B  BB17  HHZ  1.623\n",
      "4  -66.362944 -26.542889  2B  BB18  HHZ  2.984\n",
      "..        ...        ...  ..   ...  ...    ...\n",
      "69 -67.603302 -27.479601  X6  NS15  BHZ  1.646\n",
      "70 -67.613403 -27.568600  X6  NS16  BHZ  1.608\n",
      "71 -67.624702 -27.707899  X6  NS17  BHZ  1.496\n",
      "72 -67.628998 -27.900801  X6  NS18  BHZ  1.376\n",
      "73 -66.948139 -25.844667  2B  GALA  HHZ  4.630\n",
      "\n",
      "[74 rows x 6 columns]\n",
      "     0     1      2  3  4\n",
      "0   2B  EW01  15.83  1  P\n",
      "1   X6  EW09  15.31  1  P\n",
      "2   X6  EW09  26.71  1  S\n",
      "3   X6  BB19   7.95  1  P\n",
      "4   X6  BB19  16.21  1  S\n",
      "..  ..   ...    ... .. ..\n",
      "61  2B  EW06  37.26  1  S\n",
      "62  2B  EW05  19.39  1  P\n",
      "63  2B  EW05  32.34  1  S\n",
      "64  X6  BB14  59.87  1  S\n",
      "65  X6  BB14  35.45  1  P\n",
      "\n",
      "[66 rows x 5 columns]\n"
     ]
    }
   ],
   "source": [
    "df1=pd.read_csv(\"all_station.txt\",sep=\"\\s+\",header=None) #Station file\n",
    "print(df1)\n",
    "df2=pd.read_csv(\"./phasefiles/20090125_09_phase_velest.txt\",sep=\"\\s+\",header=None) #Phase file\n",
    "print(df2)"
   ]
  },
  {
   "cell_type": "markdown",
   "id": "a59d2da4",
   "metadata": {},
   "source": [
    "# Import event location and build the velocity model from Velest"
   ]
  },
  {
   "cell_type": "code",
   "execution_count": 38,
   "id": "0b1a385b",
   "metadata": {},
   "outputs": [
    {
     "name": "stdout",
     "output_type": "stream",
     "text": [
      "Building obspy.taup model for 'punamodelobspy.nd' ...\n"
     ]
    }
   ],
   "source": [
    "#2009-01-04 T04:28:53\n",
    "#evelat=-26.3131\n",
    "#evelon=-66.6217\n",
    "#evedep=4.45\n",
    "#2008-12-04 T14:03:28\n",
    "#evelat=-26.477\n",
    "#evelon=-67.547\n",
    "#evedep=12.11+3.1\n",
    "#2009-01-25 T16:37:52.33\n",
    "#evelat=-25.926475\n",
    "#evelon=-66.901383\n",
    "#evedep=14.661\n",
    "#2009-01-25 T09:02:16.46\n",
    "evelat=-25.927793\n",
    "evelon=-66.9015\n",
    "evedep=13.598\n",
    "#Velocity model to use\n",
    "taup_create.build_taup_model(\"punamodelobspy.nd\", output_folder='velmodel')"
   ]
  },
  {
   "cell_type": "markdown",
   "id": "3fa8d0c4",
   "metadata": {},
   "source": [
    "# Create input file with distance, azimuth, backazimuth and take-off angle  "
   ]
  },
  {
   "cell_type": "code",
   "execution_count": 40,
   "id": "7d04b1d3",
   "metadata": {},
   "outputs": [],
   "source": [
    "#Velocity model\n",
    "model = TauPyModel(model=\"/Users/sankha/Desktop/research/southern_puna/focmec_ini/input_prep/velmodel/punamodelobspy\")\n",
    "\n",
    "c=-1 #counter for polarity index\n",
    "\n",
    "\n",
    "#Output files\n",
    "fo=open(\"focmec_prelim_20090125_09_p.txt\",'w') #Detailed Output file\n",
    "fo3=open(\"../polarity/20090125_09_p.txt\",'w')\n",
    "for i in range(len(df2[0])): #Phase file\n",
    "    for j in range(len(df1[0])): #Station file\n",
    "        if df2[4][i]==\"P\" and df2[0][i]==df1[2][j] and df2[1][i]==df1[3][j]:\n",
    "            c+=1\n",
    "            #Distance, azimuth and backazimuth\n",
    "            dist,az,baz=obspy.taup.taup_geo.calc_dist_azi(evelat,evelon,df1[1][j],df1[0][j] ,6378,0)\n",
    "            #Arrival time and take-off angle\n",
    "            #In the velocity model, 0 depth= avg. station elevation, so depths are scaled by avg. station elev.\n",
    "            arrivals = model.get_travel_times(source_depth_in_km=evedep, \n",
    "                                      \n",
    "                                      distance_in_degree=dist)\n",
    "            \n",
    "            #print network, station, tt, phase, lat, lon, elev, dist\n",
    "            #print(df2[0][i],df2[1][i],df2[2][i],df2[4][i],df1[0][j],df1[1][j],df1[5][j],dist,az,baz,file=fo)\n",
    "            print(df2[0][i],df2[1][i],df2[2][i],df2[4][i],df1[0][j],df1[1][j],df1[5][j],dist,az,baz,arrivals[0].time,arrivals[0].takeoff_angle,file=fo)                                 \n",
    "            print(df2[0][i],df2[1][i],df2[4][i],\"U\",\"IP\",file=fo3)\n",
    "            \n",
    "           "
   ]
  },
  {
   "cell_type": "markdown",
   "id": "6dbf5751",
   "metadata": {},
   "source": [
    "# Create focmec input file"
   ]
  },
  {
   "cell_type": "code",
   "execution_count": 36,
   "id": "05b348d4",
   "metadata": {},
   "outputs": [],
   "source": [
    "inps=pd.read_csv(\"focmec_prelim_20090125_09_p.txt\",sep='\\s+',header=None) #Detailed Output file\n",
    "pol=pd.read_csv(\"../polarity/20090125_09_p.txt\",sep='\\s+',header=None)\n",
    "#Output files\n",
    "#print(inps,pol)\n",
    "fo2=open(\"puna_20090125_09_f.inp\",'w') #Focmec input file\n",
    "for i in range(len(pol[0])):\n",
    "    print(\"%s%8.2f%8.2f%s%20s\"%(inps[1][i],inps[8][i],inps[11][i],pol[3][i],pol[4][i]),file=fo2)\n"
   ]
  },
  {
   "cell_type": "code",
   "execution_count": null,
   "id": "ae7cbe24",
   "metadata": {},
   "outputs": [],
   "source": [
    "\n",
    "\n",
    "           "
   ]
  },
  {
   "cell_type": "code",
   "execution_count": 351,
   "id": "7e258315",
   "metadata": {},
   "outputs": [
    {
     "data": {
      "text/plain": [
       "1.5362942426501507"
      ]
     },
     "execution_count": 351,
     "metadata": {},
     "output_type": "execute_result"
    }
   ],
   "source": [
    "np.sqrt(2.3602)"
   ]
  },
  {
   "cell_type": "markdown",
   "id": "584858be",
   "metadata": {},
   "source": [
    "# Some trials with Pyrocko that did not work well"
   ]
  },
  {
   "cell_type": "code",
   "execution_count": 294,
   "id": "627359b3",
   "metadata": {},
   "outputs": [],
   "source": [
    "#not required anymore\n",
    "lats_a = [evelat]\n",
    "lons_a =[evelon]\n",
    "# Second set of coordinates\n",
    "lats_b = df1[1]\n",
    "lons_b = df1[0]\n",
    "\n",
    "azlist=orthodrome.azibazi_numpy(lats_a, lons_a, lats_b, lons_b)[0]\n",
    "bazlist=orthodrome.azibazi_numpy(lats_a, lons_a, lats_b, lons_b)[1]\n",
    "#print(bazlist)\n",
    "#print(azlist)"
   ]
  },
  {
   "cell_type": "code",
   "execution_count": null,
   "id": "1cac4de0",
   "metadata": {},
   "outputs": [],
   "source": [
    "#Calculate the phase arrival times\n",
    "\n",
    "km = 1000.\n",
    "\n",
    "md = cake.read_nd_model('punamodel.nd')\n",
    "model=cake.LayeredModel.from_scanlines(md)\n",
    "\n",
    "# Source depth [m].\n",
    "source_depth = 4.45 * km\n",
    "\n",
    "# Distances as a numpy array [deg].\n",
    "df3=pd.read_csv(\"focmec_phaseinp_p.txt\",sep=\"\\s+\",header=None)\n",
    "fo=open(\"cake_arrival_p_puna.txt\",'w')\n",
    "\n",
    "for i in range(1):\n",
    "    distances =[(df3[7][2]*km * cake.m2d)]   \n",
    "    # Define the phase to use.\n",
    "    Phase = cake.PhaseDef('P','p')\n",
    "    \n",
    "    # calculate distances and arrivals and print them:\n",
    "    for arrival in model.arrivals([0.6], zstart=source_depth,zstop=-3.72*km):\n",
    "        print(arrival)"
   ]
  },
  {
   "cell_type": "code",
   "execution_count": 412,
   "id": "ef7ec8f6",
   "metadata": {},
   "outputs": [
    {
     "data": {
      "image/png": "[encoded data removed]",
      "text/plain": [
       "<Figure size 432x288 with 2 Axes>"
      ]
     },
     "metadata": {
      "needs_background": "light"
     },
     "output_type": "display_data"
    }
   ],
   "source": [
    "import matplotlib.pyplot as plt\n",
    "import mplstereonet\n",
    "\n",
    "fig = plt.figure()\n",
    "ax = fig.add_subplot(111, projection='stereonet')\n",
    "\n",
    "strike, dip =0, 0\n",
    "ax.plane(strike, dip, 'g-', linewidth=2)\n",
    "ax.line(45, 40, 'g^', markersize=18)\n",
    "ax.rake(strike, dip, -25)\n",
    "ax.grid()\n",
    "\n",
    "plt.show()\n"
   ]
  },
  {
   "cell_type": "code",
   "execution_count": 400,
   "id": "51fe1670",
   "metadata": {},
   "outputs": [],
   "source": [
    "%%sh\n",
    "gmt polar -R239/240/34/35.2 -JM8c -N -Sc0.4 -D239:30E/34:30N -M5 -Qh -pdf test <<END\n",
    "#Date Or. time stat azim ih\n",
    "910223 1 22 0481 11 147 ipu0\n",
    "910223 1 22 6185 247 120 ipd0\n",
    "910223 1 22 0485 288 114 epu0\n",
    "910223 1 22 0490 223 112 epd0\n",
    "910223 1 22 0487 212 109 epu0\n",
    "END"
   ]
  },
  {
   "cell_type": "code",
   "execution_count": null,
   "id": "b459743d",
   "metadata": {},
   "outputs": [],
   "source": []
  }
 ],
 "metadata": {
  "kernelspec": {
   "display_name": "Python 3",
   "language": "python",
   "name": "python3"
  },
  "language_info": {
   "codemirror_mode": {
    "name": "ipython",
    "version": 3
   },
   "file_extension": ".py",
   "mimetype": "text/x-python",
   "name": "python",
   "nbconvert_exporter": "python",
   "pygments_lexer": "ipython3",
   "version": "3.7.10"
  }
 },
 "nbformat": 4,
 "nbformat_minor": 5
}

{
 "cells": [
  {
   "cell_type": "code",
   "execution_count": 1,
   "id": "273c4efb",
   "metadata": {},
   "outputs": [],
   "source": [
    "import numpy as np\n",
    "import pandas as pd\n",
    "import pygmt\n",
    "import obspy\n",
    "from pyrocko import moment_tensor as pmt\n",
    "import matplotlib.pyplot as plt\n",
    "from obspy.imaging.beachball import beachball"
   ]
  },
  {
   "cell_type": "code",
   "execution_count": 2,
   "id": "89ca74fc",
   "metadata": {},
   "outputs": [],
   "source": [
    "#Open the output file\n",
    "#fo=open(\"focmec_output2.txt\",'w')\n",
    "#event=\"%d-%02d-%02dT%02d:%02d:%4.2f\"%(df_eve[0][nm],df_eve[1][nm],df_eve[2][nm],df_eve[3][nm],df_eve[4][nm],df_eve[5][nm])\n",
    "#print(\"id\",\"Event\", \"Latitude\",\"Longitude\",\"Depth\",\"Magnitude\",\"Strike\",\"Dip\",\"Rake\",\\\n",
    " #     \"Strike_SD\",\"Dip_SD\",\"Rake_SD\",\"Strike2\",\"Dip2\",\"Rake2\",\"Location\",file=fo)\n",
    "#fo.close()\n"
   ]
  },
  {
   "cell_type": "code",
   "execution_count": 4,
   "id": "3a3a5b58",
   "metadata": {},
   "outputs": [
    {
     "name": "stdout",
     "output_type": "stream",
     "text": [
      "     0   1   2   3   4      5          6          7       8      9     10  \\\n",
      "0  2008  12   4  14   3  28.11 -26.484288 -67.541467  10.858  0.041  2.82   \n",
      "\n",
      "     11  \n",
      "0  0.48  \n",
      "20081204143\n"
     ]
    },
    {
     "data": {
      "image/png": "[encoded data removed]",
      "text/plain": [
       "<Figure size 432x288 with 1 Axes>"
      ]
     },
     "metadata": {
      "needs_background": "light"
     },
     "output_type": "display_data"
    }
   ],
   "source": [
    "df_eve=pd.read_csv(\"../input_prep/inputs/target_event.txt\",header=None,sep='\\s+') #Event file\n",
    "print(df_eve)\n",
    "nm=0 #Event number\n",
    "\n",
    "eveid=\"%d%02d%02d%02d%d\"%(df_eve[0][nm],df_eve[1][nm],df_eve[2][nm],df_eve[3][nm],df_eve[4][nm])\n",
    "print(eveid)\n",
    "\n",
    "df=pd.read_csv(\"../focmec_runs/%s/output_%s_uw.out\"%(eveid,eveid),header=None,sep='\\s+',skiprows=11)\n",
    "plt.hist(df[1])\n",
    "plt.show()"
   ]
  },
  {
   "cell_type": "code",
   "execution_count": 6,
   "id": "5218967c",
   "metadata": {},
   "outputs": [
    {
     "name": "stdout",
     "output_type": "stream",
     "text": [
      "136.816356825 84.903280052 18.7416763803\n",
      "45.0898816584 71.3351690039 174.619534959\n",
      "[2.2630698349252576, 7.833905716627183, 6.2764261103177379]\n"
     ]
    },
    {
     "data": {
      "text/plain": [
       "(2008, 12, 4, 14, 3)"
      ]
     },
     "execution_count": 6,
     "metadata": {},
     "output_type": "execute_result"
    }
   ],
   "source": [
    "magnitude = 2.0 # Magnitude of the earthquake\n",
    "m0 = pmt.magnitude_to_moment(magnitude)  # convert the mag to moment\n",
    "M=[0.0]*6\n",
    "for i in range(len(df[0])):\n",
    "    if df[1][i]>0 and df[1][i]<360:\n",
    "        strike=df[1][i]\n",
    "        dip=df[0][i]\n",
    "        rake=df[2][i]\n",
    "        mt = pmt.MomentTensor(strike=strike, dip=dip, rake=rake, scalar_moment=m0)\n",
    "        m6 = [mt.mnn, mt.mee, mt.mdd, mt.mne, mt.mnd, mt.med]  # The six MT components\n",
    "        M+=m6/mt.scalar_moment()\n",
    "avgm = (M/len(df[0]))\n",
    "#print(avgm)\n",
    "# init pyrocko moment tensor\n",
    "m1 = pmt.MomentTensor(\n",
    "    mnn=avgm[0]*m0,\n",
    "    mee=avgm[1]*m0,\n",
    "    mdd=avgm[2]*m0,\n",
    "    mne=avgm[3]*m0,\n",
    "    mnd=avgm[4]*m0,\n",
    "    med=avgm[5]*m0)\n",
    "#print(m1)  # print moment tensor\n",
    "# gives out both nodal planes:\n",
    "(s1, d1, r1), (s2, d2, r2) = m1.both_strike_dip_rake()\n",
    "print(s1,d1,r1)\n",
    "print(s2,d2,r2)\n",
    "\n",
    "var_str1=[]\n",
    "var_dip1=[]\n",
    "var_rake1=[]\n",
    "var_str2=[]\n",
    "var_dip2=[]\n",
    "var_rake2=[]\n",
    "\n",
    "for i in range(len(df[1])):    \n",
    "    if df[1][i]>0 and df[1][i]<200:\n",
    "        var_str1.append((df[1][i]-s1)**2)\n",
    "        var_dip1.append((df[0][i]-d1)**2)\n",
    "        var_rake1.append((df[2][i]-r1)**2)\n",
    "    #elif df[1][i]<50:\n",
    "     #   var_str1.append((360-df[1][i]-s2)**2)\n",
    "      #  var_dip1.append((df[0][i]-d2)**2)\n",
    "       # var_rake1.append((df[2][i]-r2)**2)\n",
    "    else:\n",
    "        #continue\n",
    "        var_str1.append((df[1][i]-180-s1)**2)\n",
    "        var_dip1.append((df[0][i]-d1)**2)\n",
    "        var_rake1.append((df[2][i]+r1)**2)\n",
    "\n",
    "sd = [np.sqrt(np.mean(var_str1)),np.sqrt(np.mean(var_dip1)),np.sqrt(np.mean(var_rake1))]\n",
    "\n",
    "#Standard deviation for strike,dip and rake\n",
    "print(sd)\n",
    "(df_eve[0][nm],df_eve[1][nm],df_eve[2][nm],df_eve[3][nm],df_eve[4][nm])"
   ]
  },
  {
   "cell_type": "code",
   "execution_count": 7,
   "id": "6ce242f8",
   "metadata": {},
   "outputs": [
    {
     "data": {
      "image/png": "[encoded data removed]",
      "text/plain": [
       "<Figure size 200x200 with 1 Axes>"
      ]
     },
     "metadata": {
      "needs_background": "light"
     },
     "output_type": "display_data"
    },
    {
     "name": "stdout",
     "output_type": "stream",
     "text": [
      "0\n"
     ]
    }
   ],
   "source": [
    "#Plot average beachball\n",
    "mt = [s1,d1,r1]\n",
    "beachball(mt, size=200, linewidth=2, facecolor='r');\n",
    "print(nm)"
   ]
  },
  {
   "cell_type": "code",
   "execution_count": 8,
   "id": "a1a9970a",
   "metadata": {},
   "outputs": [
    {
     "name": "stdout",
     "output_type": "stream",
     "text": [
      "1 2008-12-04T14:03:28.11 -26.484288 -67.541467 10.858 2.82 136 84 18 2 7 6 45 71 174 1\n",
      "1 2008-12-04T14:03:28.11 -26.484288 -67.541467 10.858 2.82 45 71 174 2 7 6 136 84 18 1\n"
     ]
    }
   ],
   "source": [
    "#Print output line and copy it to the final output file\n",
    "event=\"%d-%02d-%02dT%02d:%02d:%4.2f\"%(df_eve[0][nm],df_eve[1][nm],df_eve[2][nm],df_eve[3][nm],df_eve[4][nm],df_eve[5][nm])\n",
    "print(1,event,df_eve[6][nm],df_eve[7][nm],df_eve[8][nm],df_eve[10][nm],int(s1),int(d1),int(r1),int(sd[0]),int(sd[1]),int(sd[2]),int(s2),int(d2),int(r2),1)\n",
    "\n",
    "print(1,event,df_eve[6][nm],df_eve[7][nm],df_eve[8][nm],df_eve[10][nm],int(s2),int(d2),int(r2),int(sd[0]),int(sd[1]),int(sd[2]),int(s1),int(d1),int(r1),1)    "
   ]
  },
  {
   "cell_type": "code",
   "execution_count": 9,
   "id": "3a9a1c70",
   "metadata": {},
   "outputs": [
    {
     "data": {
      "text/plain": [
       "Text(0.5, 0, 'Rake Error')"
      ]
     },
     "execution_count": 9,
     "metadata": {},
     "output_type": "execute_result"
    },
    {
     "data": {
      "image/png": "[encoded data removed]",
      "text/plain": [
       "<Figure size 1296x432 with 3 Axes>"
      ]
     },
     "metadata": {
      "needs_background": "light"
     },
     "output_type": "display_data"
    }
   ],
   "source": [
    "#Check average error\n",
    "df=pd.read_csv(\"../output/focmec_output.txt\",sep='\\s+')\n",
    "plt.figure(figsize=(18,6))\n",
    "plt.subplot(131)\n",
    "plt.hist(df['Strike_SD'])\n",
    "plt.xlabel('Strike Error',fontsize=15)\n",
    "plt.subplot(132)\n",
    "plt.hist(df['Dip_SD'])\n",
    "plt.xlabel('Dip Error', fontsize=15)\n",
    "plt.subplot(133)\n",
    "plt.hist(df['Rake_SD'])\n",
    "plt.xlabel('Rake Error', fontsize=15)"
   ]
  },
  {
   "cell_type": "code",
   "execution_count": 10,
   "id": "ab141813",
   "metadata": {},
   "outputs": [
    {
     "name": "stdout",
     "output_type": "stream",
     "text": [
      "6.0344827586206895 11.344827586206897 13.206896551724139\n"
     ]
    }
   ],
   "source": [
    "sm = np.mean(df['Strike_SD'])\n",
    "dm = np.mean(df['Dip_SD'])\n",
    "rm = np.mean(df['Rake_SD'])\n",
    "print(sm,dm,rm)"
   ]
  },
  {
   "cell_type": "code",
   "execution_count": 11,
   "id": "dade4926",
   "metadata": {},
   "outputs": [
    {
     "name": "stdout",
     "output_type": "stream",
     "text": [
      "10.1954022989\n"
     ]
    }
   ],
   "source": [
    "print(np.mean([sm,dm,rm]))"
   ]
  }
 ],
 "metadata": {
  "kernelspec": {
   "display_name": "Python 3",
   "language": "python",
   "name": "python3"
  },
  "language_info": {
   "codemirror_mode": {
    "name": "ipython",
    "version": 3
   },
   "file_extension": ".py",
   "mimetype": "text/x-python",
   "name": "python",
   "nbconvert_exporter": "python",
   "pygments_lexer": "ipython3",
   "version": "3.7.10"
  }
 },
 "nbformat": 4,
 "nbformat_minor": 5
}

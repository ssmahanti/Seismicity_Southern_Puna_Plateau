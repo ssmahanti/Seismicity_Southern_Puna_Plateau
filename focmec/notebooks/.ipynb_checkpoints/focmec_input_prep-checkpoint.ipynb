{
 "cells": [
  {
   "cell_type": "markdown",
   "id": "dd0c50f9",
   "metadata": {},
   "source": [
    "# Import relevant libraries"
   ]
  },
  {
   "cell_type": "code",
   "execution_count": 1,
   "id": "c9752d6d",
   "metadata": {},
   "outputs": [],
   "source": [
    "from __future__ import print_function\n",
    "import numpy as np\n",
    "import pandas as pd\n",
    "import obspy\n",
    "from obspy.taup import TauPyModel,taup_create"
   ]
  },
  {
   "cell_type": "markdown",
   "id": "d8219998",
   "metadata": {},
   "source": [
    "# Import phase file and station coordinates\n",
    "\n",
    "Import the phase files from hypodd input and add a space between network and station name"
   ]
  },
  {
   "cell_type": "code",
   "execution_count": 10,
   "id": "2c98e87d",
   "metadata": {},
   "outputs": [
    {
     "name": "stdout",
     "output_type": "stream",
     "text": [
      "            0          1   2     3    4      5\n",
      "0  -68.243278 -26.009306  2B  BB05  HHZ  4.339\n",
      "1  -68.372254 -25.545861  2B  BB06  HHZ  3.833\n",
      "2  -65.865694 -26.629639  2B  BB16  HHZ  2.224\n",
      "3  -65.895889 -25.914444  2B  BB17  HHZ  1.623\n",
      "4  -66.362944 -26.542889  2B  BB18  HHZ  2.984\n",
      "..        ...        ...  ..   ...  ...    ...\n",
      "69 -67.603302 -27.479601  X6  NS15  BHZ  1.646\n",
      "70 -67.613403 -27.568600  X6  NS16  BHZ  1.608\n",
      "71 -67.624702 -27.707899  X6  NS17  BHZ  1.496\n",
      "72 -67.628998 -27.900801  X6  NS18  BHZ  1.376\n",
      "73 -66.948139 -25.844667  2B  GALA  HHZ  4.630\n",
      "\n",
      "[74 rows x 6 columns]\n",
      "      0     1      2  3  4\n",
      "0    X6  BB15   5.78  1  P\n",
      "1    X6  BB15  10.02  1  S\n",
      "2    X6  BB13  12.12  1  P\n",
      "3    X6  BB13  20.90  1  S\n",
      "4    X6  NS18  27.50  1  P\n",
      "..   ..   ...    ... .. ..\n",
      "100  2B  EW08   8.25  1  P\n",
      "101  2B  EW22  16.66  1  S\n",
      "102  2B  EW22   9.71  1  P\n",
      "103  2B  EW24  26.38  1  S\n",
      "104  2B  EW24  15.06  1  P\n",
      "\n",
      "[105 rows x 5 columns]\n"
     ]
    }
   ],
   "source": [
    "df1=pd.read_csv(\"../input_prep/all_station.txt\",sep=\"\\s+\",header=None) #Station file\n",
    "print(df1)\n",
    "df2=pd.read_csv(\"../input_prep/phasefiles/20080416_phase_velest.txt\",sep=\"\\s+\",header=None) #Phase file\n",
    "print(df2)"
   ]
  },
  {
   "cell_type": "markdown",
   "id": "a59d2da4",
   "metadata": {},
   "source": [
    "# Import event location and build the velocity model from Velest"
   ]
  },
  {
   "cell_type": "code",
   "execution_count": 4,
   "id": "0b1a385b",
   "metadata": {},
   "outputs": [
    {
     "name": "stdout",
     "output_type": "stream",
     "text": [
      "Building obspy.taup model for '../input_prep/punamodelobspy.nd' ...\n"
     ]
    }
   ],
   "source": [
    "#2009-01-04 T04:28:53\n",
    "#2008-12-04 T14:03:28\n",
    "#2009-01-25 T16:37:52.33\n",
    "#2009-01-25 T09:02:16.46\n",
    "#2008-06-19 T15:44:46.340\n",
    "evelat=-27.080\n",
    "evelon= -66.249\n",
    "evedep=10.675+3.1\n",
    "#Velocity model to use\n",
    "taup_create.build_taup_model(\"../input_prep/punamodelobspy.nd\", output_folder='velmodel')"
   ]
  },
  {
   "cell_type": "markdown",
   "id": "639e67bd",
   "metadata": {},
   "source": [
    "# Create input file with distance, azimuth, backazimuth and take-off angle  "
   ]
  },
  {
   "cell_type": "code",
   "execution_count": 6,
   "id": "9aae25dc",
   "metadata": {},
   "outputs": [],
   "source": [
    "#Velocity model\n",
    "model = TauPyModel(model=\"/Users/sankha/Desktop/research/southern_puna/focmec/input_prep/velmodel/punamodelobspy\")\n",
    "\n",
    "#Output files\n",
    "fo=open(\"../input_prep/focmec_prelim_20080125_p2.txt\",'w') #Detailed Output file\n",
    "fo3=open(\"../input_prep/polarity/20080125_p2.txt\",'w')\n",
    "for i in range(len(df2[0])): #Phase file\n",
    "    for j in range(len(df1[0])): #Station file\n",
    "        if df2[4][i]==\"P\" and df2[0][i]==df1[2][j] and df2[1][i]==df1[3][j]:\n",
    "\n",
    "            #Distance, azimuth and backazimuth\n",
    "            dist,az,baz=obspy.taup.taup_geo.calc_dist_azi(evelat,evelon,df1[1][j],df1[0][j] ,6378,0)\n",
    "            #Arrival time and take-off angle\n",
    "            #In the velocity model, 0 depth= avg. station elevation, so depths are scaled by avg. station elev.\n",
    "            arrivals = model.get_travel_times(source_depth_in_km=evedep, \n",
    "                                      \n",
    "                                      distance_in_degree=dist)\n",
    "            \n",
    "            #print network, station, tt, phase, lat, lon, elev, dist\n",
    "            #print(df2[0][i],df2[1][i],df2[2][i],df2[4][i],df1[0][j],df1[1][j],df1[5][j],dist,az,baz,file=fo)\n",
    "            print(df2[0][i],df2[1][i],df2[2][i],df2[4][i],df1[0][j],df1[1][j],df1[5][j],dist,az,baz,arrivals[0].time,arrivals[0].takeoff_angle,file=fo)                                 \n",
    "            print(df2[0][i],df2[1][i],df2[4][i],\"U\",\"IP\",file=fo3)\n",
    "            \n",
    "           "
   ]
  },
  {
   "cell_type": "markdown",
   "id": "6dbf5751",
   "metadata": {},
   "source": [
    "# Create focmec input file"
   ]
  },
  {
   "cell_type": "code",
   "execution_count": 8,
   "id": "a88bb8cc",
   "metadata": {},
   "outputs": [],
   "source": [
    "inps=pd.read_csv(\"../input_prep/focmec_prelim_20080125_p2.txt\",sep='\\s+',header=None) #Detailed Output file\n",
    "pol=pd.read_csv(\"../input_prep/polarity/20080125_p2.txt\",sep='\\s+',header=None)\n",
    "#Output files\n",
    "#print(inps,pol)\n",
    "fo2=open(\"../input_prep/inputfiles/puna_20080125_p2.inp\",'w') #Focmec input file\n",
    "for i in range(len(pol[0])):\n",
    "    print(\"%s%8.2f%8.2f%s%20s\"%(inps[1][i],inps[8][i],inps[11][i],pol[3][i],pol[4][i]),file=fo2)\n"
   ]
  },
  {
   "cell_type": "markdown",
   "id": "584858be",
   "metadata": {},
   "source": [
    "# Some trials with Pyrocko that did not work well"
   ]
  },
  {
   "cell_type": "code",
   "execution_count": 294,
   "id": "627359b3",
   "metadata": {},
   "outputs": [],
   "source": [
    "#not required anymore\n",
    "lats_a = [evelat]\n",
    "lons_a =[evelon]\n",
    "# Second set of coordinates\n",
    "lats_b = df1[1]\n",
    "lons_b = df1[0]\n",
    "\n",
    "azlist=orthodrome.azibazi_numpy(lats_a, lons_a, lats_b, lons_b)[0]\n",
    "bazlist=orthodrome.azibazi_numpy(lats_a, lons_a, lats_b, lons_b)[1]\n",
    "#print(bazlist)\n",
    "#print(azlist)"
   ]
  },
  {
   "cell_type": "code",
   "execution_count": null,
   "id": "1cac4de0",
   "metadata": {},
   "outputs": [],
   "source": [
    "#Calculate the phase arrival times\n",
    "\n",
    "km = 1000.\n",
    "\n",
    "md = cake.read_nd_model('punamodel.nd')\n",
    "model=cake.LayeredModel.from_scanlines(md)\n",
    "\n",
    "# Source depth [m].\n",
    "source_depth = 4.45 * km\n",
    "\n",
    "# Distances as a numpy array [deg].\n",
    "df3=pd.read_csv(\"focmec_phaseinp_p.txt\",sep=\"\\s+\",header=None)\n",
    "fo=open(\"cake_arrival_p_puna.txt\",'w')\n",
    "\n",
    "for i in range(1):\n",
    "    distances =[(df3[7][2]*km * cake.m2d)]   \n",
    "    # Define the phase to use.\n",
    "    Phase = cake.PhaseDef('P','p')\n",
    "    \n",
    "    # calculate distances and arrivals and print them:\n",
    "    for arrival in model.arrivals([0.6], zstart=source_depth,zstop=-3.72*km):\n",
    "        print(arrival)"
   ]
  },
  {
   "cell_type": "code",
   "execution_count": null,
   "id": "ef7ec8f6",
   "metadata": {},
   "outputs": [],
   "source": []
  },
  {
   "cell_type": "code",
   "execution_count": 400,
   "id": "51fe1670",
   "metadata": {},
   "outputs": [],
   "source": []
  },
  {
   "cell_type": "code",
   "execution_count": null,
   "id": "b459743d",
   "metadata": {},
   "outputs": [],
   "source": []
  }
 ],
 "metadata": {
  "kernelspec": {
   "display_name": "Python 3",
   "language": "python",
   "name": "python3"
  },
  "language_info": {
   "codemirror_mode": {
    "name": "ipython",
    "version": 3
   },
   "file_extension": ".py",
   "mimetype": "text/x-python",
   "name": "python",
   "nbconvert_exporter": "python",
   "pygments_lexer": "ipython3",
   "version": "3.7.10"
  }
 },
 "nbformat": 4,
 "nbformat_minor": 5
}

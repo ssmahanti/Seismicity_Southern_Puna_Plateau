{
 "cells": [
  {
   "cell_type": "markdown",
   "id": "dd0c50f9",
   "metadata": {},
   "source": [
    "# Import relevant libraries"
   ]
  },
  {
   "cell_type": "code",
   "execution_count": 1,
   "id": "c9752d6d",
   "metadata": {},
   "outputs": [],
   "source": [
    "from __future__ import print_function\n",
    "import numpy as np\n",
    "import pandas as pd\n",
    "import obspy\n",
    "from obspy.taup import TauPyModel,taup_create\n",
    "%matplotlib inline"
   ]
  },
  {
   "cell_type": "code",
   "execution_count": 6,
   "id": "753e2cb5",
   "metadata": {},
   "outputs": [],
   "source": [
    "%%sh\n",
    "subl ../input_prep/inputs/target_event.txt\n",
    "subl ../input_prep/inputs/puna_catalog_hypodd_v5.txt\n"
   ]
  },
  {
   "cell_type": "markdown",
   "id": "d8219998",
   "metadata": {},
   "source": [
    "# 2. Prepare the Input Files\n",
    "\n",
    "Read the station file, target event, corresponding phase file and prepare the focmec_prelim file and polarity file."
   ]
  },
  {
   "cell_type": "code",
   "execution_count": 8,
   "id": "d4762a15",
   "metadata": {},
   "outputs": [
    {
     "name": "stdout",
     "output_type": "stream",
     "text": [
      "20081204143\n",
      "1\n"
     ]
    }
   ],
   "source": [
    "#Extract the phase file for the event\n",
    "fi=open('../input_prep/inputs/phase_input_hypodd_v5.txt','r')\n",
    "line=fi.readlines()\n",
    "\n",
    "event=\"2008_12_04_14_3\" #Edit it for each event\n",
    "\n",
    "inpdate=event.strip()\n",
    "yrs,mns,dys,hrs,mms=inpdate.split(\"_\")\n",
    "\n",
    "eveid=\"%s%s%s%s%s\"%(yrs,mns,dys,hrs,mms)\n",
    "print(eveid)\n",
    "\n",
    "fo=open(\"../input_prep/phasefiles_v5/%s%s%s%s%s_phase_velest_v5.txt\"%(yrs,mns,dys,hrs,mms),'w')\t\n",
    "flag=0\n",
    "for i in line:\n",
    "    if i.split()[0]==\"#\":\n",
    "        flag=0\n",
    "        jj,yr,mn,dy,hr,mm,sc,lat,lon,dep,k,l,m,res,num=i.split()\n",
    "\n",
    "        if (yr==yrs and mn==mns and dy==dys and hr==hrs and mm==mms):\n",
    "            flag=1\n",
    "            print(flag)\n",
    "    if flag==1 and i.split()[0]!=\"#\":\n",
    "        net=i.split()[0][0:2]\n",
    "        stn=i.split()[0][2:6]\n",
    "        if stn==\"GALA\":\n",
    "            stn=\"GALAN\"\n",
    "        print(net,stn,i.split()[1],i.split()[2],i.split()[3],file=fo)\t\t"
   ]
  },
  {
   "cell_type": "code",
   "execution_count": 10,
   "id": "421ee927",
   "metadata": {},
   "outputs": [
    {
     "name": "stdout",
     "output_type": "stream",
     "text": [
      "20081204143\n",
      "-26.484288 -67.541467 13.958\n",
      "Building obspy.taup model for '../input_prep/inputs/punamodelobspy.nd' ...\n"
     ]
    }
   ],
   "source": [
    "#Prepare the focmec_prelim file and polarity file:\n",
    "\n",
    "df1=pd.read_csv(\"../input_prep/inputs/spuna_stations.txt\",sep=\"\\s+\",header=None) #Station file\n",
    "df3=pd.read_csv(\"../input_prep/inputs/target_event.txt\",sep=\"\\s+\",header=None) #Event file\n",
    "df2=pd.read_csv(\"../input_prep/phasefiles_v5/%s_phase_velest_v5.txt\"%eveid,sep=\"\\s+\",header=None) #Phase file\n",
    "\n",
    "print(eveid)\n",
    "evelat=float(df3[6][0])\n",
    "evelon=float(df3[7][0])\n",
    "evedep=float(df3[8][0])+3.1\n",
    "print(evelat,evelon,evedep)\n",
    "    \n",
    "#Velocity model to use\n",
    "taup_create.build_taup_model(\"../input_prep/inputs/punamodelobspy.nd\", output_folder='velmodel')\n",
    "#Velocity model: Add full path here\n",
    "model = TauPyModel(model=\"/Users/sankha/Desktop/research/southern_puna/focmec/input_prep/velmodel/punamodelobspy\")\n",
    "\n",
    "#Output files\n",
    "fo=open(\"../input_prep/prelims_v5/focmec_prelim_%s_p.txt\"%eveid,'w') #Detailed Output file\n",
    "fo3=open(\"../input_prep/polarity_v5/%s_p.txt\"%eveid,'w') #Initial polarity file\n",
    "for i in range(len(df2[0])): #Phase file\n",
    "    for j in range(len(df1[0])): #Station file\n",
    "        if df2[4][i]==\"P\" and df2[0][i]==df1[2][j] and df2[1][i]==df1[3][j]:\n",
    "\n",
    "            #Distance, azimuth and backazimuth\n",
    "            dist,az,baz=obspy.taup.taup_geo.calc_dist_azi(evelat,evelon,df1[1][j],df1[0][j] ,6378,0)\n",
    "            #Arrival time and take-off angle\n",
    "            #In the velocity model, 0 depth= avg. station elevation, so depths are scaled by avg. station elev.\n",
    "            arrivals = model.get_travel_times(source_depth_in_km=evedep,distance_in_degree=dist)\n",
    "            \n",
    "            #print network, station, tt, phase, lat, lon, elev, dist\n",
    "            \n",
    "            print(df2[0][i],df2[1][i],df2[2][i],df2[4][i],df1[0][j],df1[1][j],df1[5][j],dist,az,baz,arrivals[0].time,arrivals[0].takeoff_angle,file=fo)                                 \n",
    "            print(df2[0][i],df2[1][i],df2[4][i],\"U\",\"IP\",file=fo3)\n",
    "                \n",
    "                "
   ]
  },
  {
   "cell_type": "markdown",
   "id": "6dbf5751",
   "metadata": {},
   "source": [
    "### Create focmec input file:"
   ]
  },
  {
   "cell_type": "code",
   "execution_count": 12,
   "id": "a88bb8cc",
   "metadata": {},
   "outputs": [
    {
     "name": "stdout",
     "output_type": "stream",
     "text": [
      "20081204143\n"
     ]
    }
   ],
   "source": [
    "inps=pd.read_csv(\"../input_prep/prelims_v5/focmec_prelim_%s_p.txt\"%eveid,sep='\\s+',header=None) #Detailed Output file\n",
    "pol=pd.read_csv(\"../input_prep/polarity_v5/%s_p.txt\"%eveid,sep='\\s+',header=None)\n",
    "\n",
    "#Output files\n",
    "fo2=open(\"../input_prep/focmec_input/puna_%s_p.inp\"%eveid,'w') #Focmec input file\n",
    "print(eveid,file=fo2)\n",
    "for i in range(len(pol[0])):\n",
    "    print(\"%s%8.2f%8.2f%s%20s\"%(inps[1][i],inps[8][i],inps[11][i],pol[3][i],pol[4][i]),file=fo2)\n",
    "print(eveid)"
   ]
  },
  {
   "cell_type": "code",
   "execution_count": 13,
   "id": "bf2e2b05",
   "metadata": {},
   "outputs": [],
   "source": [
    "%%sh\n",
    "e=\"20081204143\" #eventid\n",
    "\n",
    "#Create a run folder\n",
    "cp -r ../focmec_runs/template ../focmec_runs/$e\n",
    "\n",
    "#Copy the input file to the folder\n",
    "cp ../input_prep/focmec_input/puna_${e}_p.inp ../focmec_runs/$e/puna_${e}_p.inp\n",
    "\n",
    "subl ../focmec_runs/$e/puna_${e}_p.inp"
   ]
  },
  {
   "cell_type": "markdown",
   "id": "52b13405",
   "metadata": {},
   "source": [
    "## 3. Pick Polarity from Data"
   ]
  },
  {
   "cell_type": "code",
   "execution_count": 14,
   "id": "a4fddc4b",
   "metadata": {},
   "outputs": [
    {
     "name": "stdout",
     "output_type": "stream",
     "text": [
      "20081204143\n"
     ]
    }
   ],
   "source": [
    "event=\"2008_12_04_14_3\" #Edit this\n",
    "\n",
    "inpdate=event.strip()\n",
    "yrs,mns,dys,hrs,mms=inpdate.split(\"_\")\n",
    "\n",
    "eveid=\"%s%s%s%s%s\"%(yrs,mns,dys,hrs,mms)\n",
    "print(eveid)"
   ]
  },
  {
   "cell_type": "code",
   "execution_count": 15,
   "id": "f249e0ad",
   "metadata": {},
   "outputs": [
    {
     "name": "stdout",
     "output_type": "stream",
     "text": [
      "20081204143\n"
     ]
    }
   ],
   "source": [
    "print(eveid)\n",
    "evelst=pd.read_csv(\"../input_prep/inputs/target_event.txt\",sep=\"\\s+\",header=None)\n",
    "#read the distance and azimuth\n",
    "df=pd.read_csv(\"../input_prep/prelims_v5/focmec_prelim_%s_p.txt\"%eveid,sep='\\s+',header=None)\n",
    "net=np.array(df[0])\n",
    "stn=np.array(df[1])\n",
    "ptime=np.array(df[2])\n",
    "azlist=np.array(df[8])\n",
    "dist=np.array(df[7])"
   ]
  },
  {
   "cell_type": "code",
   "execution_count": null,
   "id": "a62cdd54",
   "metadata": {},
   "outputs": [],
   "source": [
    "#Edit the file path and pick the polarity\n",
    "i=0\n",
    "tii=\"%d-%02d-%02dT%02d:%02d:%4.2f\"%(evelst[0][i],evelst[1][i],evelst[2][i],evelst[3][i],evelst[4][i],evelst[5][i])\n",
    "print(tii)\n",
    "#Picking\n",
    "dt1=4\n",
    "dt2=4\n",
    "for i in range(len(df[0])):\n",
    "    ti=obspy.UTCDateTime(tii)\n",
    "    st1=obspy.read(\"../data/20081204/2008_12_04_000000.00_%s_%s_mseed\"%(net[i],stn[i]), starttime=ti+ptime[i]-dt1, endtime=ti+ptime[i]+dt2)\n",
    "    st2=st1.select(component='Z')\n",
    "    st2.detrend(\"spline\", order=3, dspline=500)\n",
    "    st2.filter(\"bandpass\", freqmin=0.5, freqmax=15)\n",
    "    st2.plot(type='relative',grid_color=\"white\",linewidth=0.5,block=False)"
   ]
  }
 ],
 "metadata": {
  "kernelspec": {
   "display_name": "Python 3",
   "language": "python",
   "name": "python3"
  },
  "language_info": {
   "codemirror_mode": {
    "name": "ipython",
    "version": 3
   },
   "file_extension": ".py",
   "mimetype": "text/x-python",
   "name": "python",
   "nbconvert_exporter": "python",
   "pygments_lexer": "ipython3",
   "version": "3.7.10"
  }
 },
 "nbformat": 4,
 "nbformat_minor": 5
}
